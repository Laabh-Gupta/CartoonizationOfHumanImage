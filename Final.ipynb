{
 "cells": [
  {
   "cell_type": "code",
   "execution_count": 1,
   "id": "ea06f467-438d-467b-8df2-babdb64f3345",
   "metadata": {},
   "outputs": [],
   "source": [
    "import os\n",
    "os.environ[\"KMP_DUPLICATE_LIB_OK\"] = \"TRUE\""
   ]
  },
  {
   "cell_type": "code",
   "execution_count": 2,
   "id": "2b41c81d-7496-4613-ac89-f0a4e0462e2f",
   "metadata": {},
   "outputs": [],
   "source": [
    "import os\n",
    "os.chdir('pytorch-CycleGAN-and-pix2pix/')"
   ]
  },
  {
   "cell_type": "code",
   "execution_count": 3,
   "id": "08538441-7fee-443f-b6cd-83a4146d8d30",
   "metadata": {},
   "outputs": [],
   "source": [
    "import torch\n",
    "from torchvision import transforms\n",
    "from PIL import Image\n",
    "import matplotlib.pyplot as plt\n",
    "\n",
    "from options.test_options import TestOptions\n",
    "from models import create_model"
   ]
  },
  {
   "cell_type": "code",
   "execution_count": 4,
   "id": "11186107-7a2c-4a69-b894-a6490452f29a",
   "metadata": {},
   "outputs": [
    {
     "name": "stderr",
     "output_type": "stream",
     "text": [
      "usage: ipykernel_launcher.py [-h] --dataroot DATAROOT [--name NAME] [--gpu_ids GPU_IDS]\n",
      "                             [--checkpoints_dir CHECKPOINTS_DIR] [--model MODEL] [--input_nc INPUT_NC]\n",
      "                             [--output_nc OUTPUT_NC] [--ngf NGF] [--ndf NDF] [--netD NETD] [--netG NETG]\n",
      "                             [--n_layers_D N_LAYERS_D] [--norm NORM] [--init_type INIT_TYPE] [--init_gain INIT_GAIN]\n",
      "                             [--no_dropout] [--dataset_mode DATASET_MODE] [--direction DIRECTION] [--serial_batches]\n",
      "                             [--num_threads NUM_THREADS] [--batch_size BATCH_SIZE] [--load_size LOAD_SIZE]\n",
      "                             [--crop_size CROP_SIZE] [--max_dataset_size MAX_DATASET_SIZE] [--preprocess PREPROCESS]\n",
      "                             [--no_flip] [--display_winsize DISPLAY_WINSIZE] [--epoch EPOCH] [--load_iter LOAD_ITER]\n",
      "                             [--verbose] [--suffix SUFFIX] [--use_wandb] [--wandb_project_name WANDB_PROJECT_NAME]\n",
      "                             [--results_dir RESULTS_DIR] [--aspect_ratio ASPECT_RATIO] [--phase PHASE] [--eval]\n",
      "                             [--num_test NUM_TEST]\n",
      "ipykernel_launcher.py: error: the following arguments are required: --dataroot\n"
     ]
    },
    {
     "ename": "SystemExit",
     "evalue": "2",
     "output_type": "error",
     "traceback": [
      "An exception has occurred, use %tb to see the full traceback.\n",
      "\u001b[1;31mSystemExit\u001b[0m\u001b[1;31m:\u001b[0m 2\n"
     ]
    },
    {
     "name": "stderr",
     "output_type": "stream",
     "text": [
      "C:\\Users\\Reach\\anaconda3\\envs\\cuda_test\\lib\\site-packages\\IPython\\core\\interactiveshell.py:3516: UserWarning: To exit: use 'exit', 'quit', or Ctrl-D.\n",
      "  warn(\"To exit: use 'exit', 'quit', or Ctrl-D.\", stacklevel=1)\n"
     ]
    }
   ],
   "source": [
    "from options.test_options import TestOptions\n",
    "import argparse\n",
    "\n",
    "opt = TestOptions().parse()  # ← this line automatically sets all required attributes including isTrain\n",
    "\n",
    "# You can override anything after that\n",
    "opt.dataroot = './dummy'\n",
    "opt.num_threads = 0\n",
    "opt.batch_size = 1\n",
    "opt.serial_batches = True\n",
    "opt.no_flip = True\n",
    "opt.display_id = -1\n"
   ]
  },
  {
   "cell_type": "code",
   "execution_count": 11,
   "id": "267f74df-a283-4c5c-bebc-0550ae7c2a1d",
   "metadata": {},
   "outputs": [
    {
     "ename": "AttributeError",
     "evalue": "'Namespace' object has no attribute 'isTrain'",
     "output_type": "error",
     "traceback": [
      "\u001b[1;31m---------------------------------------------------------------------------\u001b[0m",
      "\u001b[1;31mAttributeError\u001b[0m                            Traceback (most recent call last)",
      "Cell \u001b[1;32mIn[11], line 2\u001b[0m\n\u001b[0;32m      1\u001b[0m \u001b[38;5;66;03m# Step 2: Create and setup model\u001b[39;00m\n\u001b[1;32m----> 2\u001b[0m model \u001b[38;5;241m=\u001b[39m \u001b[43mcreate_model\u001b[49m\u001b[43m(\u001b[49m\u001b[43mopt\u001b[49m\u001b[43m)\u001b[49m\n\u001b[0;32m      3\u001b[0m model\u001b[38;5;241m.\u001b[39msetup(opt)\n",
      "File \u001b[1;32m~\\OneDrive\\Desktop\\Study\\Machine Vission\\Project\\pytorch-CycleGAN-and-pix2pix\\models\\__init__.py:65\u001b[0m, in \u001b[0;36mcreate_model\u001b[1;34m(opt)\u001b[0m\n\u001b[0;32m     55\u001b[0m \u001b[38;5;250m\u001b[39m\u001b[38;5;124;03m\"\"\"Create a model given the option.\u001b[39;00m\n\u001b[0;32m     56\u001b[0m \n\u001b[0;32m     57\u001b[0m \u001b[38;5;124;03mThis function warps the class CustomDatasetDataLoader.\u001b[39;00m\n\u001b[1;32m   (...)\u001b[0m\n\u001b[0;32m     62\u001b[0m \u001b[38;5;124;03m    >>> model = create_model(opt)\u001b[39;00m\n\u001b[0;32m     63\u001b[0m \u001b[38;5;124;03m\"\"\"\u001b[39;00m\n\u001b[0;32m     64\u001b[0m model \u001b[38;5;241m=\u001b[39m find_model_using_name(opt\u001b[38;5;241m.\u001b[39mmodel)\n\u001b[1;32m---> 65\u001b[0m instance \u001b[38;5;241m=\u001b[39m \u001b[43mmodel\u001b[49m\u001b[43m(\u001b[49m\u001b[43mopt\u001b[49m\u001b[43m)\u001b[49m\n\u001b[0;32m     66\u001b[0m \u001b[38;5;28mprint\u001b[39m(\u001b[38;5;124m\"\u001b[39m\u001b[38;5;124mmodel [\u001b[39m\u001b[38;5;132;01m%s\u001b[39;00m\u001b[38;5;124m] was created\u001b[39m\u001b[38;5;124m\"\u001b[39m \u001b[38;5;241m%\u001b[39m \u001b[38;5;28mtype\u001b[39m(instance)\u001b[38;5;241m.\u001b[39m\u001b[38;5;18m__name__\u001b[39m)\n\u001b[0;32m     67\u001b[0m \u001b[38;5;28;01mreturn\u001b[39;00m instance\n",
      "File \u001b[1;32m~\\OneDrive\\Desktop\\Study\\Machine Vission\\Project\\pytorch-CycleGAN-and-pix2pix\\models\\test_model.py:37\u001b[0m, in \u001b[0;36mTestModel.__init__\u001b[1;34m(self, opt)\u001b[0m\n\u001b[0;32m     31\u001b[0m \u001b[38;5;28;01mdef\u001b[39;00m \u001b[38;5;21m__init__\u001b[39m(\u001b[38;5;28mself\u001b[39m, opt):\n\u001b[0;32m     32\u001b[0m \u001b[38;5;250m    \u001b[39m\u001b[38;5;124;03m\"\"\"Initialize the pix2pix class.\u001b[39;00m\n\u001b[0;32m     33\u001b[0m \n\u001b[0;32m     34\u001b[0m \u001b[38;5;124;03m    Parameters:\u001b[39;00m\n\u001b[0;32m     35\u001b[0m \u001b[38;5;124;03m        opt (Option class)-- stores all the experiment flags; needs to be a subclass of BaseOptions\u001b[39;00m\n\u001b[0;32m     36\u001b[0m \u001b[38;5;124;03m    \"\"\"\u001b[39;00m\n\u001b[1;32m---> 37\u001b[0m     \u001b[38;5;28;01massert\u001b[39;00m(\u001b[38;5;129;01mnot\u001b[39;00m \u001b[43mopt\u001b[49m\u001b[38;5;241;43m.\u001b[39;49m\u001b[43misTrain\u001b[49m)\n\u001b[0;32m     38\u001b[0m     BaseModel\u001b[38;5;241m.\u001b[39m\u001b[38;5;21m__init__\u001b[39m(\u001b[38;5;28mself\u001b[39m, opt)\n\u001b[0;32m     39\u001b[0m     \u001b[38;5;66;03m# specify the training losses you want to print out. The training/test scripts  will call <BaseModel.get_current_losses>\u001b[39;00m\n",
      "\u001b[1;31mAttributeError\u001b[0m: 'Namespace' object has no attribute 'isTrain'"
     ]
    }
   ],
   "source": [
    "# Step 2: Create and setup model\n",
    "model = create_model(opt)\n",
    "model.setup(opt)\n"
   ]
  },
  {
   "cell_type": "code",
   "execution_count": null,
   "id": "f95aafe1-681c-4c5a-998f-950de01b7eec",
   "metadata": {},
   "outputs": [],
   "source": []
  }
 ],
 "metadata": {
  "kernelspec": {
   "display_name": "cuda_env",
   "language": "python",
   "name": "myenv"
  },
  "language_info": {
   "codemirror_mode": {
    "name": "ipython",
    "version": 3
   },
   "file_extension": ".py",
   "mimetype": "text/x-python",
   "name": "python",
   "nbconvert_exporter": "python",
   "pygments_lexer": "ipython3",
   "version": "3.8.19"
  }
 },
 "nbformat": 4,
 "nbformat_minor": 5
}
